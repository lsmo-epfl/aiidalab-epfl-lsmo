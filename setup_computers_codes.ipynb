{
 "cells": [
  {
   "cell_type": "markdown",
   "metadata": {},
   "source": [
    "# Setup a computer with AiiDA "
   ]
  },
  {
   "cell_type": "code",
   "execution_count": null,
   "metadata": {},
   "outputs": [],
   "source": [
    "import urllib.parse as urlparse\n",
    "import ipywidgets as ipw\n",
    "from traitlets import link\n",
    "from aiidalab_widgets_base import SshComputerSetup, valid_sshcomputer_args\n",
    "from aiidalab_widgets_base import AiidaComputerSetup, valid_aiidacomputer_args\n",
    "\n",
    "from aiida.cmdline.commands import cmd_computer, cmd_code\n",
    "import click\n",
    "from click.testing import CliRunner\n",
    "from glob import glob\n",
    "import os\n",
    "from jinja2 import Template"
   ]
  },
  {
   "cell_type": "code",
   "execution_count": null,
   "metadata": {},
   "outputs": [],
   "source": [
    "parsed_url = urlparse.parse_qs(urlparse.urlsplit(jupyter_notebook_url).query)\n",
    "computer_list = {'fidis-che609': 'fidis.epfl.ch', 'deneb-che609':'deneb1.epfl.ch'}\n",
    "THIS_DIR = os.path.dirname(os.path.realpath('aiidalab-lsmo'))\n",
    "SETUP_DIR = os.path.join(THIS_DIR, 'setup')\n",
    "\n",
    "select_computer = ipw.Dropdown(\n",
    "    options=computer_list,\n",
    "    label='fidis-che609',\n",
    "    description='Select computer:',\n",
    "    style = {'description_width': 'initial'}\n",
    ")\n",
    "display(select_computer)"
   ]
  },
  {
   "cell_type": "markdown",
   "metadata": {},
   "source": [
    "## Step 1: Setup ssh\n",
    "Note: The password is used only to set up the ssh connection and is never stored."
   ]
  },
  {
   "cell_type": "code",
   "execution_count": null,
   "metadata": {},
   "outputs": [],
   "source": [
    "args =  valid_sshcomputer_args(parsed_url)\n",
    "sshcomputer = SshComputerSetup(**args)\n",
    "link((select_computer, 'value'), (sshcomputer._inp_computer_hostname, 'value' ))\n",
    "sshcomputer._use_proxy.value = True\n",
    "sshcomputer._inp_proxy_address.value = 'lsmosrv1.epfl.ch'\n",
    "display(sshcomputer)"
   ]
  },
  {
   "cell_type": "markdown",
   "metadata": {},
   "source": [
    "## Step 2: Setup codes"
   ]
  },
  {
   "cell_type": "code",
   "execution_count": null,
   "metadata": {},
   "outputs": [],
   "source": [
    "def render(template_file, **kwargs):\n",
    "    \"\"\"Produce yaml file from template.\n",
    "\n",
    "    :param template_file: name of template file\n",
    "    :param kwargs: will be forwarded to jinja2.Template\n",
    "    \"\"\"\n",
    "    with open(template_file, 'r') as handle:\n",
    "        content = handle.read()\n",
    "\n",
    "    template = Template(content)\n",
    "    yml_content = template.render(**kwargs)\n",
    "    yml_file = os.path.splitext(template_file)[0]+'.yml'\n",
    "    with open(yml_file, 'w') as handle:\n",
    "        handle.write(yml_content)\n",
    "\n",
    "def print_success(result):\n",
    "    if not result.exit_code == 0:\n",
    "        click.secho(result.output, fg='red')\n",
    "    else:\n",
    "        click.secho('Sucess', fg='green')\n",
    "\n",
    "def setup(_=None):\n",
    "    \"\"\"Set up a given computer & codes.\"\"\"\n",
    "    computer = select_computer.label\n",
    "    cli_runner = CliRunner()\n",
    "\n",
    "    # computer setup\n",
    "    computer_yml = SETUP_DIR + '/{c}/{c}.yml'.format(c=computer)\n",
    "    username = sshcomputer.username    \n",
    "    ssh_key =\"{}/.ssh/id_rsa\".format(os.path.expanduser(\"~\"))\n",
    "    options = ['--config', computer_yml]\n",
    "    \n",
    "    print(\"Setting up {}\".format(computer))\n",
    "    options = ['--config', computer_yml]\n",
    "    result = cli_runner.invoke(cmd_computer.computer_setup, options)\n",
    "\n",
    "    print(\"Configuring {}\".format(computer))\n",
    "    options = ['ssh', computer, '--username', username, '--safe-interval', 10, '--look-for-keys',\n",
    "                   '--key-policy', 'AutoAddPolicy', '--non-interactive', '--key-filename', ssh_key]\n",
    "    result = cli_runner.invoke(cmd_computer.computer_configure, options)\n",
    "    print_success(result)\n",
    "\n",
    "    for code_yml in glob(SETUP_DIR + '/{c}/*@*'.format(c=computer)):\n",
    "        # code setup\n",
    "        print(\"Setting up {}\".format(code_yml))\n",
    "        options = ['--config', code_yml]\n",
    "        result = cli_runner.invoke(cmd_code.setup_code, options)\n",
    "        print_success(result)"
   ]
  },
  {
   "cell_type": "code",
   "execution_count": null,
   "metadata": {},
   "outputs": [],
   "source": [
    "setup_button = ipw.Button(description=\"Setup codes\")\n",
    "setup_button.on_click(setup)\n",
    "display(ipw.HBox([setup_button]))"
   ]
  }
 ],
 "metadata": {
  "kernelspec": {
   "display_name": "Python 3",
   "language": "python",
   "name": "python3"
  },
  "language_info": {
   "codemirror_mode": {
    "name": "ipython",
    "version": 3
   },
   "file_extension": ".py",
   "mimetype": "text/x-python",
   "name": "python",
   "nbconvert_exporter": "python",
   "pygments_lexer": "ipython3",
   "version": "3.7.4"
  }
 },
 "nbformat": 4,
 "nbformat_minor": 2
}
