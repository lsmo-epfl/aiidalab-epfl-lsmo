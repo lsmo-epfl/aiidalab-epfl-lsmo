{
 "cells": [
  {
   "cell_type": "code",
   "execution_count": null,
   "metadata": {},
   "outputs": [],
   "source": [
    "%aiida\n",
    "\n",
    "import ipywidgets as ipw\n",
    "from aiida.engine import run\n",
    "from IPython.display import clear_output\n",
    "\n",
    "from aiidalab_widgets_base import StructureBrowserWidget, StructureManagerWidget, StructureUploadWidget\n",
    "from aiidalab_widgets_base import CodeDropdown, SubmitButtonWidget, ProcessFollowerWidget\n",
    "from aiidalab_widgets_base import ProgressBarWidget, viewer\n",
    "\n",
    "NetworkCalculation = CalculationFactory('zeopp.network')"
   ]
  },
  {
   "cell_type": "code",
   "execution_count": null,
   "metadata": {},
   "outputs": [],
   "source": [
    "def on_click_submit():\n",
    "    builder = NetworkCalculation.get_builder()\n",
    "    \n",
    "    builder.parameters = DataFactory('zeopp.parameters')(\n",
    "        dict={\n",
    "            'ha': 'DEF',  # Just for speed; use 'DEF' for prodution!\n",
    "            'cssr': True,  # Converting to cssr.\n",
    "            'res': True,\n",
    "            'sa': [probe_radius.value, probe_radius.value, 1000],  # Compute surface area.\n",
    "            'volpo': [probe_radius.value, probe_radius.value, 1000],  # Compute geometric pore volume.\n",
    "            'block': [probe_radius.value, 100]  # Compute blocking spheres for a big molecule.\n",
    "        })\n",
    "    output.value = ''\n",
    "    if structure_widget.structure_node is None:\n",
    "        output.value = \"Please upload a structure first\"\n",
    "        return None\n",
    "    builder.structure = structure_widget.structure_node\n",
    "\n",
    "    if code_dropdown.selected_code is None:\n",
    "        output.value =  \"Please select a code first\"\n",
    "        return None\n",
    "    builder.code = code_dropdown.selected_code\n",
    "    \n",
    "    builder.metadata.label = \"ZeoppPoreAnalysis\"\n",
    "    \n",
    "    return builder\n",
    "\n",
    "def show_results(process):\n",
    "    output = ipw.HTML(\"\"\"<hr>\n",
    "    <h3> Step 4: Get your results </h3>\"\"\")\n",
    "    display(output, viewer(process.outputs.output_parameters))\n",
    "    \n",
    "def follow_process(process):\n",
    "    follower = ProcessFollowerWidget(process, followers=[ProgressBarWidget])\n",
    "    follower.on_completed(show_results)\n",
    "    display(follower)\n",
    "    follower.follow()"
   ]
  },
  {
   "cell_type": "markdown",
   "metadata": {},
   "source": [
    "## Step 1: Select structure\n",
    "\n",
    "Before uploading, please\n",
    " * **Desolvate** the structure\n",
    " * Use **P1 symmetry**"
   ]
  },
  {
   "cell_type": "code",
   "execution_count": null,
   "metadata": {},
   "outputs": [],
   "source": [
    "structure_widget = StructureManagerWidget(\n",
    "    importers=[\n",
    "        (\"From computer\", StructureUploadWidget()),\n",
    "        (\"AiiDA database\", StructureBrowserWidget()),\n",
    "    ],\n",
    "    storable=False,\n",
    "    node_class='CifData')\n",
    "display(structure_widget)"
   ]
  },
  {
   "cell_type": "markdown",
   "metadata": {},
   "source": [
    "## Step 2: Select executable"
   ]
  },
  {
   "cell_type": "code",
   "execution_count": null,
   "metadata": {},
   "outputs": [],
   "source": [
    "code_dropdown = CodeDropdown(input_plugin='zeopp.network')\n",
    "display(code_dropdown)"
   ]
  },
  {
   "cell_type": "markdown",
   "metadata": {},
   "source": [
    "## Step 3: Compute "
   ]
  },
  {
   "cell_type": "code",
   "execution_count": null,
   "metadata": {},
   "outputs": [],
   "source": [
    "output = ipw.HTML('')\n",
    "\n",
    "probe_radius = ipw.BoundedFloatText(\n",
    "    description='Probe radius [Angstrom]:', \n",
    "    min=0.1,\n",
    "    max=100.0,\n",
    "    value=1.8,\n",
    "    layout=ipw.Layout(width=\"400px\"),\n",
    "    style={\"description_width\":\"initial\"}\n",
    ")\n",
    "\n",
    "submit_widget = SubmitButtonWidget(NetworkCalculation, on_click_submit)\n",
    "submit_widget.on_submitted(follow_process)\n",
    "\n",
    "display(probe_radius, submit_widget, output)"
   ]
  }
 ],
 "metadata": {
  "kernelspec": {
   "display_name": "Python 3",
   "language": "python",
   "name": "python3"
  },
  "language_info": {
   "codemirror_mode": {
    "name": "ipython",
    "version": 3
   },
   "file_extension": ".py",
   "mimetype": "text/x-python",
   "name": "python",
   "nbconvert_exporter": "python",
   "pygments_lexer": "ipython3",
   "version": "3.7.4"
  }
 },
 "nbformat": 4,
 "nbformat_minor": 2
}
