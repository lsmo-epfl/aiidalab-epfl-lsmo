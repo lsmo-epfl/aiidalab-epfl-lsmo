{
 "cells": [
  {
   "cell_type": "code",
   "execution_count": null,
   "metadata": {},
   "outputs": [],
   "source": [
    "from __future__ import print_function\n",
    "from IPython.display import display\n",
    "from aiida import load_dbenv, is_dbenv_loaded\n",
    "from aiida.backends import settings\n",
    "if not is_dbenv_loaded():\n",
    "    load_dbenv(profile=settings.AIIDADB_PROFILE)\n",
    "\n",
    "import reentry\n",
    "reentry.manager.scan()\n",
    "    \n",
    "from aiidalab_widgets_base import StructureUploadWidget, CodeDropdown\n",
    "%matplotlib notebook"
   ]
  },
  {
   "cell_type": "markdown",
   "metadata": {},
   "source": [
    "## Step 1: Select Structure\n",
    "\n",
    "Before uploading, please\n",
    " * **Desolvate** the structure\n",
    " * Use **P1 symmetry**"
   ]
  },
  {
   "cell_type": "code",
   "execution_count": null,
   "metadata": {},
   "outputs": [],
   "source": [
    "widget = StructureUploadWidget(node_class='CifData')\n",
    "display(widget)"
   ]
  },
  {
   "cell_type": "markdown",
   "metadata": {},
   "source": [
    "## Step 2: Select executable"
   ]
  },
  {
   "cell_type": "code",
   "execution_count": null,
   "metadata": {},
   "outputs": [],
   "source": [
    "dropdown = CodeDropdown(input_plugin='zeopp.network')\n",
    "display(dropdown)"
   ]
  },
  {
   "cell_type": "markdown",
   "metadata": {},
   "source": [
    "## Step 3: Compute "
   ]
  },
  {
   "cell_type": "code",
   "execution_count": null,
   "metadata": {},
   "outputs": [],
   "source": [
    "import ipywidgets as ipw\n",
    "from aiida_zeopp.workflows import ZeoppBlockPocketsWorkChain\n",
    "from aiida.orm.data.base import Float\n",
    "from aiida.work.run import run\n",
    "\n",
    "probe_radius = ipw.BoundedFloatText(\n",
    "    description='Probe radius [Angstrom]:', \n",
    "    min=0.1,\n",
    "    max=100.0,\n",
    "    value=1.8)\n",
    "\n",
    "def on_click_submit(b):\n",
    "    structure = widget.structure_node\n",
    "\n",
    "    if structure is False:\n",
    "        message.value = \"Please upload a structure first\"\n",
    "        return None\n",
    "        \n",
    "    code = dropdown.selected_code\n",
    "    if code is False:\n",
    "        message.value = \"Please select a code first\"\n",
    "        return None\n",
    "\n",
    "    message.value = 'Please wait, pore properties are being computed.'\n",
    "    btn_submit.disabled = True\n",
    "\n",
    "    options = {\n",
    "        \"resources\": {\n",
    "            \"num_machines\": 1,\n",
    "            \"tot_num_mpiprocs\": 1,\n",
    "            \"num_mpiprocs_per_machine\": 1,\n",
    "        },\n",
    "        \"max_wallclock_seconds\": 5 * 60 * 60,\n",
    "        \"withmpi\": False,\n",
    "    }\n",
    "\n",
    "    with submit_out:\n",
    "        outputs = run(\n",
    "            ZeoppBlockPocketsWorkChain,\n",
    "            probe_radius=Float(probe_radius.value),\n",
    "            structure=structure,\n",
    "            zeopp_code=code\n",
    "        )\n",
    "\n",
    "\n",
    "btn_submit = ipw.Button(description='Compute Properties')\n",
    "btn_submit.on_click(on_click_submit)\n",
    "message = ipw.HTML('')\n",
    "submit_out = ipw.Output()\n",
    "\n",
    "\n",
    "display(\n",
    "    probe_radius,\n",
    "    btn_submit,\n",
    "    submit_out,\n",
    "    message\n",
    ")"
   ]
  }
 ],
 "metadata": {
  "kernelspec": {
   "display_name": "Python 2",
   "language": "python",
   "name": "python2"
  },
  "language_info": {
   "codemirror_mode": {
    "name": "ipython",
    "version": 2
   },
   "file_extension": ".py",
   "mimetype": "text/x-python",
   "name": "python",
   "nbconvert_exporter": "python",
   "pygments_lexer": "ipython2",
   "version": "2.7.15rc1"
  }
 },
 "nbformat": 4,
 "nbformat_minor": 2
}
