{
 "cells": [
  {
   "cell_type": "code",
   "execution_count": 1,
   "metadata": {},
   "outputs": [],
   "source": [
    "from __future__ import print_function\n",
    "import ipywidgets as ipw\n",
    "from IPython.display import display\n",
    "from aiida import load_dbenv, is_dbenv_loaded\n",
    "from aiida.backends import settings\n",
    "if not is_dbenv_loaded():\n",
    "    load_dbenv(profile=settings.AIIDADB_PROFILE) \n",
    "from aiidalab_widgets_base import StructureUploadWidget, CodeDropdown\n",
    "%matplotlib notebook\n",
    "\n",
    "layout = ipw.Layout(width=\"400px\")\n",
    "style = {\"description_width\":\"150px\"}"
   ]
  },
  {
   "cell_type": "markdown",
   "metadata": {},
   "source": [
    "## Step 1: Select Structure\n",
    "\n",
    "Before uploading, please\n",
    " * **Desolvate** the structure\n",
    " * Use **P1 symmetry**"
   ]
  },
  {
   "cell_type": "code",
   "execution_count": null,
   "metadata": {},
   "outputs": [],
   "source": [
    "widget = StructureUploadWidget(node_class='CifData')\n",
    "display(widget)"
   ]
  },
  {
   "cell_type": "markdown",
   "metadata": {},
   "source": [
    "## Step 2: Select executable"
   ]
  },
  {
   "cell_type": "code",
   "execution_count": null,
   "metadata": {},
   "outputs": [],
   "source": [
    "dropdown = CodeDropdown(input_plugin='zeopp.network')\n",
    "display(dropdown)"
   ]
  },
  {
   "cell_type": "markdown",
   "metadata": {},
   "source": [
    "## Step 3: Compute "
   ]
  },
  {
   "cell_type": "code",
   "execution_count": null,
   "metadata": {},
   "outputs": [],
   "source": [
    "import ipywidgets as ipw\n",
    "import pandas as pd\n",
    "from aiida_zeopp.workflows import ZeoppBlockPocketsWorkChain\n",
    "from aiida.orm.data.base import Float\n",
    "from aiida.work.run import run\n",
    "from IPython.display import FileLink\n",
    "\n",
    "probe_radius = ipw.BoundedFloatText(\n",
    "    description='Probe radius [Angstrom]:', \n",
    "    min=0.1,\n",
    "    max=100.0,\n",
    "    value=1.8,\n",
    "    layout=layout,\n",
    "    style=style\n",
    ")\n",
    "\n",
    "\n",
    "results = None\n",
    "def on_click_submit(b):\n",
    "    global results\n",
    "    structure = widget.structure_node\n",
    "\n",
    "    if structure is None:\n",
    "        message.value = \"Please upload a structure first\"\n",
    "        return None\n",
    "        \n",
    "    code = dropdown.selected_code\n",
    "    if code is None:\n",
    "        message.value = \"Please select a code first\"\n",
    "        return None\n",
    "\n",
    "    message.value = 'Please wait, pore properties are being computed (can take ~10 minutes).'\n",
    "    btn_submit.disabled = True\n",
    "\n",
    "    with submit_out:\n",
    "        results = run(\n",
    "            ZeoppBlockPocketsWorkChain,\n",
    "            probe_radius=Float(probe_radius.value),\n",
    "            structure=structure,\n",
    "            zeopp_code=code\n",
    "        )\n",
    "        \n",
    "    plot(results)\n",
    "        \n",
    "\n",
    "def plot(results):\n",
    "    \n",
    "    cif_filename = widget.structure_node.filename\n",
    "    \n",
    "    d = results['output_parameters'].get_dict()\n",
    "    \n",
    "    # Hide input data\n",
    "    for k in list(d.keys()):\n",
    "        if k.startswith('Input_'):\n",
    "            d.pop(k, None)\n",
    "\n",
    "    df = pd.DataFrame.from_dict(d, orient=\"index\", columns=[cif_filename])\n",
    "    \n",
    "    message.value = df.to_html()\n",
    "    \n",
    "    results_csv = '{}.csv'.format(cif_filename)\n",
    "    df.to_csv(results_csv)\n",
    "    display(FileLink(results_csv, result_html_prefix='Download '))\n",
    "\n",
    "\n",
    "btn_submit = ipw.Button(description='Compute Properties')\n",
    "btn_submit.on_click(on_click_submit)\n",
    "message = ipw.HTML('', layout=layout)\n",
    "submit_out = ipw.Output()\n",
    "\n",
    "display(\n",
    "    probe_radius,\n",
    "    btn_submit,\n",
    "    submit_out,\n",
    "    message\n",
    ")"
   ]
  }
 ],
 "metadata": {
  "kernelspec": {
   "display_name": "Python 2",
   "language": "python",
   "name": "python2"
  },
  "language_info": {
   "codemirror_mode": {
    "name": "ipython",
    "version": 2
   },
   "file_extension": ".py",
   "mimetype": "text/x-python",
   "name": "python",
   "nbconvert_exporter": "python",
   "pygments_lexer": "ipython2",
   "version": "2.7.15rc1"
  }
 },
 "nbformat": 4,
 "nbformat_minor": 2
}
