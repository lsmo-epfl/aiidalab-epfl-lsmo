{
 "cells": [
  {
   "cell_type": "code",
   "execution_count": null,
   "metadata": {},
   "outputs": [],
   "source": [
    "%%javascript\n",
    "IPython.OutputArea.prototype._should_scroll = function(lines) {\n",
    "    return false;\n",
    "}"
   ]
  },
  {
   "cell_type": "code",
   "execution_count": null,
   "metadata": {},
   "outputs": [],
   "source": [
    "%aiida\n",
    "import urllib.parse as urlparse\n",
    "import ipywidgets as ipw\n",
    "from IPython.display import display, clear_output\n",
    "from aiidalab_widgets_base import viewer\n",
    "import nglview\n",
    "import numpy as np\n",
    "import bokeh.plotting as bpl\n",
    "import bokeh.models as bmd\n",
    "from bokeh.layouts import row\n",
    "from bokeh.io import output_notebook, push_notebook, show"
   ]
  },
  {
   "cell_type": "code",
   "execution_count": null,
   "metadata": {},
   "outputs": [],
   "source": [
    "def plot(x, y, x_dev=None, y_dev=None, title=None, xlabel=None, ylabel=None):\n",
    "    x = np.array(x)\n",
    "    y = np.array(y)\n",
    "    TOOLS = [\"pan\", \"wheel_zoom\", \"box_zoom\", \"reset\", \"save\"]\n",
    "    \n",
    "    output_notebook(hide_banner=True)\n",
    "    fig = bpl.figure(\n",
    "        toolbar_location=None,\n",
    "        title=title,\n",
    "        x_axis_label=xlabel,\n",
    "        y_axis_label=ylabel,\n",
    "        tools=TOOLS, \n",
    "        output_backend='webgl',\n",
    "    )\n",
    "\n",
    "    source = bmd.ColumnDataSource(data=dict(x=x, y=y))\n",
    "    \n",
    "    fig.line('x', 'y', source=source)\n",
    "    fig.circle('x', 'y', size=10, fill_color=\"white\", source=source)\n",
    "    \n",
    "    if x_dev:\n",
    "        x_dev = np.array(x_dev)\n",
    "        source_dev = bmd.ColumnDataSource(data=dict(base=y, lower=x-x_dev, upper=x+x_dev))\n",
    "        fig.add_layout(bmd.Whisker(source=source_dev, base=\"base\", upper=\"upper\", lower=\"lower\", dimension='width'))\n",
    "    \n",
    "    if y_dev:\n",
    "        y_dev = np.array(y_dev)\n",
    "        source_dev = bmd.ColumnDataSource(data=dict(base=x, lower=y-y_dev, upper=y+y_dev))\n",
    "        fig.add_layout(bmd.Whisker(source=source_dev, base=\"base\", upper=\"upper\", lower=\"lower\"))\n",
    "        \n",
    "    return fig"
   ]
  },
  {
   "cell_type": "code",
   "execution_count": null,
   "metadata": {},
   "outputs": [],
   "source": [
    "url = urlparse.urlsplit(jupyter_notebook_url)\n",
    "uuid = urlparse.parse_qs(url.query)['uuid'][0]\n",
    "workcalc = load_node(uuid=str(uuid))\n",
    "ism = workcalc.outputs.output_parameters['isotherm']\n",
    "\n",
    "isotherm = np.array([ism['pressure'], ism['loading_absolute_average'], ism['loading_absolute_dev']]).transpose()\n",
    "\n",
    "\n",
    "\n",
    "enthalpy = np.array([ism['enthalpy_of_adsorption_average'], ism['enthalpy_of_adsorption_dev']]).transpose()\n",
    "\n",
    "# Cleaning up.\n",
    "to_delete = []\n",
    "for i, p in enumerate(enthalpy):\n",
    "    if None in p:\n",
    "        to_delete.append(i)\n",
    "\n",
    "if to_delete:\n",
    "    enthalpy = np.delete(enthalpy, *to_delete, axis=0)\n",
    "    isotherm = np.delete(isotherm, *to_delete, axis=0)\n",
    "\n",
    "enth_av, enth_dev = zip(*enthalpy)\n",
    "ism_p, ism_load, ism_dev = zip(*isotherm)\n",
    "\n",
    "\n",
    "molecule_converter = {\n",
    "    \"co2\": \"CO2\",\n",
    "    \"ch4\": \"CH4\",\n",
    "    \"n2\" : \"N2\",\n",
    "    \"h2o\": \"H2O\",\n",
    "    \"h2\" : \"H2\",\n",
    "    \"o2\" : \"O2\",\n",
    "}"
   ]
  },
  {
   "cell_type": "markdown",
   "metadata": {},
   "source": [
    "# Detailed Report"
   ]
  },
  {
   "cell_type": "markdown",
   "metadata": {},
   "source": [
    "## Structure"
   ]
  },
  {
   "cell_type": "code",
   "execution_count": null,
   "metadata": {},
   "outputs": [],
   "source": [
    "display(viewer(workcalc.inputs.structure))"
   ]
  },
  {
   "cell_type": "markdown",
   "metadata": {},
   "source": [
    "## Isotherm and Enthalpy plots"
   ]
  },
  {
   "cell_type": "code",
   "execution_count": null,
   "metadata": {},
   "outputs": [],
   "source": [
    "if workcalc.outputs.output_parameters['is_porous']:\n",
    "    isotherm_plot = plot(x=ism_p, y=ism_load, y_dev=ism_dev, xlabel=\"Pressure [{}]\".format(ism['pressure_unit']),\n",
    "                         ylabel=\"{} loading [{}]\".format(molecule_converter[workcalc.inputs['molecule'].value],\n",
    "                                         ism['loading_absolute_unit']))\n",
    "    isotherm_plot.height = 500\n",
    "    isotherm_plot.width = 600\n",
    "    \n",
    "    secret_line = isotherm_plot.line(x=[], y=[], color='red')\n",
    "    #secret_points = isotherm_plot.circle(x=[], y=[], color='red', size=10)\n",
    "\n",
    "    enthalpy_plot = plot(x=enth_av, y=ism_load, x_dev=enth_dev,\n",
    "                         xlabel=\"Enthalpy of adsorption [{}]\".format(ism['enthalpy_of_adsorption_unit']),\n",
    "    ylabel=\"{} loading [{}]\".format(molecule_converter[workcalc.inputs['molecule'].value],\n",
    "                                         ism['loading_absolute_unit']))\n",
    "\n",
    "    enthalpy_plot.height = 500\n",
    "    enthalpy_plot.width = 400\n",
    "\n",
    "    enthalpy_plot.x_range = bmd.Range1d(min(enth_av)-2.0, max(enth_av)+2.0)\n",
    "\n",
    "    handle_t = show(row(isotherm_plot, enthalpy_plot), notebook_handle=True)\n",
    "    \n",
    "else:\n",
    "    print(\"The material is not porous. No isotherm produced.\")"
   ]
  },
  {
   "cell_type": "code",
   "execution_count": null,
   "metadata": {},
   "outputs": [],
   "source": [
    "text_plot = ipw.Textarea(\n",
    "    value='',\n",
    "    placeholder='Put the plot here',\n",
    "    description='String:',\n",
    "    disabled=False\n",
    ")\n",
    "\n",
    "def on_apply(_=None):\n",
    "    to_plot = []\n",
    "    for line in text_plot.value.splitlines():\n",
    "        to_plot.append(list(map(float, line.split())))\n",
    "    res = np.array(to_plot).transpose()\n",
    "    \n",
    "    #isotherm_plot.line(x=res[0], y=res[1], color='red')\n",
    "    #isotherm_plot.circle(x=res[0], y=res[1], color='red', size=10, fill_color=\"white\")\n",
    "    #secret_points.data_source.data['x']= res[0]\n",
    "    #secret_points.data_source.data['y']= res[1]\n",
    "    \n",
    "    \n",
    "    secret_line.data_source.data = dict(x=res[0], y=res[1])\n",
    "    secret_line.data_source.data['x']= res[0]\n",
    "    secret_line.data_source.data['y']= res[1]\n",
    "    isotherm_plot.update()\n",
    "    push_notebook(handle=handle_t)\n",
    "\n",
    "        \n",
    " \n",
    "apply_button = ipw.Button(description=\"Apply\")\n",
    "apply_button.on_click(on_apply)\n",
    "\n",
    "        \n",
    "\n",
    "\n",
    "box = ipw.VBox(children=[text_plot, apply_button])\n",
    "\n",
    "accordion = ipw.Accordion(children=[box])\n",
    "accordion.set_title(0, 'Add plot')\n",
    "display(accordion)"
   ]
  },
  {
   "cell_type": "markdown",
   "metadata": {},
   "source": [
    "## Computed properties"
   ]
  },
  {
   "cell_type": "code",
   "execution_count": null,
   "metadata": {},
   "outputs": [],
   "source": [
    "display(viewer(workcalc.outputs.output_parameters))"
   ]
  }
 ],
 "metadata": {
  "kernelspec": {
   "display_name": "Python 3",
   "language": "python",
   "name": "python3"
  },
  "language_info": {
   "codemirror_mode": {
    "name": "ipython",
    "version": 3
   },
   "file_extension": ".py",
   "mimetype": "text/x-python",
   "name": "python",
   "nbconvert_exporter": "python",
   "pygments_lexer": "ipython3",
   "version": "3.7.4"
  }
 },
 "nbformat": 4,
 "nbformat_minor": 2
}
