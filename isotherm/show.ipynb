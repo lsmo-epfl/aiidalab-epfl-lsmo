{
 "cells": [
  {
   "cell_type": "code",
   "execution_count": null,
   "metadata": {},
   "outputs": [],
   "source": [
    "%aiida\n",
    "import urllib.parse as urlparse\n",
    "import ipywidgets as ipw\n",
    "from IPython.display import display, clear_output\n",
    "from aiidalab_widgets_base import viewer\n",
    "import nglview\n",
    "import numpy as np"
   ]
  },
  {
   "cell_type": "code",
   "execution_count": null,
   "metadata": {},
   "outputs": [],
   "source": [
    "def plot(x, y, ids, title=None, xlabel=None, ylabel=None, clr_label=None, with_links=False):\n",
    "    import bokeh.plotting as bpl\n",
    "    import bokeh.models as bmd\n",
    "    from bokeh.io import output_notebook, show\n",
    "    output_notebook(hide_banner=True)\n",
    "    fig = bpl.figure(\n",
    "        toolbar_location=None,\n",
    "        title=title,\n",
    "        x_axis_label=xlabel,\n",
    "        y_axis_label=ylabel,\n",
    "        tools=['tap', 'zoom_in', 'zoom_out', 'pan'], \n",
    "        output_backend='webgl',\n",
    "    )\n",
    "    source = bmd.ColumnDataSource(data=dict(x=x, y=y))\n",
    "    \n",
    "    fig.line('x', 'y', source=source)\n",
    "    fig.circle('x', 'y', size=10, fill_color=\"white\", source=source)\n",
    "        \n",
    "    show(fig)"
   ]
  },
  {
   "cell_type": "code",
   "execution_count": null,
   "metadata": {},
   "outputs": [],
   "source": [
    "url = urlparse.urlsplit(jupyter_notebook_url)\n",
    "uuid = urlparse.parse_qs(url.query)['uuid'][0]\n",
    "workcalc = load_node(uuid=str(uuid))\n",
    "ism = workcalc.outputs.output_parameters['isotherm']\n",
    "isotherm = np.array([ism['pressure'], ism['loading_absolute_average'], ism['loading_absolute_dev']]).transpose()\n",
    "p, load, calc_ids = zip(*isotherm)"
   ]
  },
  {
   "cell_type": "markdown",
   "metadata": {},
   "source": [
    "# Detailed Report"
   ]
  },
  {
   "cell_type": "markdown",
   "metadata": {},
   "source": [
    "## Structure"
   ]
  },
  {
   "cell_type": "code",
   "execution_count": null,
   "metadata": {},
   "outputs": [],
   "source": [
    "display(viewer(workcalc.inputs.structure))"
   ]
  },
  {
   "cell_type": "markdown",
   "metadata": {},
   "source": [
    "## Isotherm plot"
   ]
  },
  {
   "cell_type": "code",
   "execution_count": null,
   "metadata": {},
   "outputs": [],
   "source": [
    "plot(p, load, calc_ids,\n",
    "     xlabel=\"Pressure [{}]\".format(ism['pressure_unit']),\n",
    "     ylabel=\"Metane loading [{}]\".format(ism['loading_absolute_unit']))"
   ]
  },
  {
   "cell_type": "markdown",
   "metadata": {},
   "source": [
    "## Computed properties"
   ]
  },
  {
   "cell_type": "code",
   "execution_count": null,
   "metadata": {},
   "outputs": [],
   "source": [
    "display(viewer(workcalc.outputs.output_parameters))"
   ]
  }
 ],
 "metadata": {
  "kernelspec": {
   "display_name": "Python 3",
   "language": "python",
   "name": "python3"
  },
  "language_info": {
   "codemirror_mode": {
    "name": "ipython",
    "version": 3
   },
   "file_extension": ".py",
   "mimetype": "text/x-python",
   "name": "python",
   "nbconvert_exporter": "python",
   "pygments_lexer": "ipython3",
   "version": "3.7.4"
  }
 },
 "nbformat": 4,
 "nbformat_minor": 2
}
