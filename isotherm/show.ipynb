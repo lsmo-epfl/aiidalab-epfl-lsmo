{
 "cells": [
  {
   "cell_type": "code",
   "execution_count": null,
   "metadata": {},
   "outputs": [],
   "source": [
    "%%javascript\n",
    "IPython.OutputArea.prototype._should_scroll = function(lines) {\n",
    "    return false;\n",
    "}"
   ]
  },
  {
   "cell_type": "code",
   "execution_count": null,
   "metadata": {},
   "outputs": [],
   "source": [
    "%%html\n",
    "<style>\n",
    ".output_wrapper button.btn.btn-default,\n",
    ".output_wrapper .ui-dialog-titlebar {\n",
    "  display: none;\n",
    "}\n",
    "</style>"
   ]
  },
  {
   "cell_type": "code",
   "execution_count": null,
   "metadata": {},
   "outputs": [],
   "source": [
    "%aiida\n",
    "%matplotlib notebook\n",
    "import base64\n",
    "import pandas as pd\n",
    "import urllib.parse as urlparse\n",
    "import ipywidgets as ipw\n",
    "from IPython.display import display, clear_output\n",
    "from aiidalab_widgets_base import viewer\n",
    "import numpy as np\n",
    "import matplotlib.pyplot as plt"
   ]
  },
  {
   "cell_type": "code",
   "execution_count": null,
   "metadata": {},
   "outputs": [],
   "source": [
    "url = urlparse.urlsplit(jupyter_notebook_url)\n",
    "uuid = urlparse.parse_qs(url.query)['uuid'][0]\n",
    "workcalc = load_node(uuid=str(uuid))\n",
    "ism = workcalc.outputs.output_parameters['isotherm']\n",
    "\n",
    "isotherm = np.array([ism['pressure'], ism['loading_absolute_average'], ism['loading_absolute_dev']]).transpose()\n",
    "\n",
    "\n",
    "\n",
    "enthalpy = np.array([ism['enthalpy_of_adsorption_average'], ism['enthalpy_of_adsorption_dev']]).transpose()\n",
    "\n",
    "# Cleaning up.\n",
    "to_delete = []\n",
    "for i, p in enumerate(enthalpy):\n",
    "    if None in p:\n",
    "        to_delete.append(i)\n",
    "\n",
    "if to_delete:\n",
    "    enthalpy = np.delete(enthalpy, *to_delete, axis=0)\n",
    "    isotherm = np.delete(isotherm, *to_delete, axis=0)\n",
    "\n",
    "enth_av, enth_dev = zip(*enthalpy)\n",
    "ism_p, ism_load, ism_dev = zip(*isotherm)\n",
    "\n",
    "\n",
    "molecule_converter = {\n",
    "    \"co2\": \"CO2\",\n",
    "    \"ch4\": \"CH4\",\n",
    "    \"n2\" : \"N2\",\n",
    "    \"h2o\": \"H2O\",\n",
    "    \"h2\" : \"H2\",\n",
    "    \"o2\" : \"O2\",\n",
    "}"
   ]
  },
  {
   "cell_type": "markdown",
   "metadata": {},
   "source": [
    "# Detailed Report"
   ]
  },
  {
   "cell_type": "markdown",
   "metadata": {},
   "source": [
    "## Structure"
   ]
  },
  {
   "cell_type": "code",
   "execution_count": null,
   "metadata": {},
   "outputs": [],
   "source": [
    "display(viewer(workcalc.inputs.structure))"
   ]
  },
  {
   "cell_type": "markdown",
   "metadata": {},
   "source": [
    "## Isotherm and Enthalpy plots"
   ]
  },
  {
   "cell_type": "code",
   "execution_count": null,
   "metadata": {},
   "outputs": [],
   "source": [
    "if workcalc.outputs.output_parameters['is_porous']:\n",
    "    \n",
    "    # Adsorption\n",
    "    fig, axs = plt.subplots(1,2, figsize=(9.9, 5))\n",
    "    line1 = axs[0].errorbar(ism_p, ism_load, yerr=ism_dev, fmt='-or', ecolor='#f58d7f')\n",
    "    axs[0].set_title(\"Isotherm\")\n",
    "    axs[0].grid(True)\n",
    "    pressure_label = \"Pressure [{}]\".format(ism['pressure_unit'])\n",
    "    axs[0].set_xlabel(pressure_label)\n",
    "    loading_label = \"{} loading [{}]\".format(molecule_converter[workcalc.inputs['molecule'].value], ism['loading_absolute_unit'])\n",
    "    axs[0].set_ylabel(loading_label)\n",
    "    line_exp, = axs[0].plot([], [], '-ob')\n",
    "    \n",
    "\n",
    "    # Enthalpy\n",
    "    line2 = axs[1].errorbar(enth_av, ism_load, xerr=enth_dev, fmt='-or')\n",
    "    axs[1].grid(True)\n",
    "    axs[1].set_title(\"Enthalpy of adsorption [{}]\".format(ism['enthalpy_of_adsorption_unit']))\n",
    "    enthalpy_label = \"Enthalpy of adsorption [{}]\".format(ism['enthalpy_of_adsorption_unit'])\n",
    "    axs[1].set_xlabel(enthalpy_label)\n",
    "    axs[1].set_ylabel(loading_label)\n",
    "    min_value = min(np.array(enth_av)-np.array(enth_dev))\n",
    "    max_value = max(np.array(enth_av)+np.array(enth_dev))\n",
    "    axs[1].set_xlim([min_value-2,  max_value+2])\n",
    "    \n",
    "    \n",
    "    # CSV\n",
    "    dataf = pd.DataFrame([(key, ism_load[i], enth_av[i]) for i, key in enumerate(ism_p)],\n",
    "                         columns=[pressure_label, loading_label, enthalpy_label])\n",
    "    table = ipw.HTML('')\n",
    "    payload = base64.b64encode(dataf.to_csv(index=False).encode()).decode()\n",
    "    fname = 'data.csv'\n",
    "    to_add = \"\"\"Download data in csv format: <a download=\"{filename}\"\n",
    "    href=\"data:text/csv;base64,{payload}\" target=\"_blank\">{title}</a>\"\"\"\n",
    "    table.value = to_add.format(filename=fname, payload=payload, title=fname)\n",
    "    display(table)\n",
    "    \n",
    "else:\n",
    "    print(\"The material is not porous. No isotherm produced.\")"
   ]
  },
  {
   "cell_type": "code",
   "execution_count": null,
   "metadata": {},
   "outputs": [],
   "source": [
    "text_plot = ipw.Textarea(\n",
    "    value='',\n",
    "    placeholder='Pressure [bar] loading [mol/kg]',\n",
    "    description='Experimental isotherm:',\n",
    "    disabled=False,\n",
    "    layout={'width': \"40%\", 'height': '300px'},\n",
    "    style = {\"description_width\": \"initial\"}\n",
    ")\n",
    "\n",
    "def on_apply(_=None):\n",
    "    to_plot = []\n",
    "    for line in text_plot.value.splitlines():\n",
    "        to_plot.append(list(map(float, line.split())))\n",
    "    res = np.array(to_plot).transpose()\n",
    "    \n",
    "    if res.size > 0:\n",
    "        line_exp.set_data(res[0], res[1])\n",
    "    else:\n",
    "        line_exp.set_data([], [])\n",
    "    fig.canvas.draw_idle()\n",
    "     \n",
    " \n",
    "plot_button = ipw.Button(description=\"Plot\")\n",
    "plot_button.on_click(on_apply)\n",
    "box = ipw.VBox(children=[text_plot, plot_button])\n",
    "accordion = ipw.Accordion(children=[box], selected_index=None)\n",
    "accordion.set_title(0, 'Compare to experiment')\n",
    "display(accordion)"
   ]
  },
  {
   "cell_type": "markdown",
   "metadata": {},
   "source": [
    "## Computed properties"
   ]
  },
  {
   "cell_type": "code",
   "execution_count": null,
   "metadata": {},
   "outputs": [],
   "source": [
    "display(viewer(workcalc.outputs.output_parameters))"
   ]
  }
 ],
 "metadata": {
  "kernelspec": {
   "display_name": "Python 3",
   "language": "python",
   "name": "python3"
  },
  "language_info": {
   "codemirror_mode": {
    "name": "ipython",
    "version": 3
   },
   "file_extension": ".py",
   "mimetype": "text/x-python",
   "name": "python",
   "nbconvert_exporter": "python",
   "pygments_lexer": "ipython3",
   "version": "3.7.4"
  }
 },
 "nbformat": 4,
 "nbformat_minor": 2
}
