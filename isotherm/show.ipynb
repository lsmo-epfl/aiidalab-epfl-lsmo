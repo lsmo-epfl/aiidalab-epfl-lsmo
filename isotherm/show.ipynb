{
 "cells": [
  {
   "cell_type": "code",
   "execution_count": null,
   "metadata": {},
   "outputs": [],
   "source": [
    "%%javascript\n",
    "IPython.OutputArea.prototype._should_scroll = function(lines) {\n",
    "    return false;\n",
    "}"
   ]
  },
  {
   "cell_type": "code",
   "execution_count": null,
   "metadata": {},
   "outputs": [],
   "source": [
    "%%html\n",
    "<style>\n",
    ".output_wrapper button.btn.btn-default,\n",
    ".output_wrapper .ui-dialog-titlebar {\n",
    "  display: none;\n",
    "}\n",
    "</style>"
   ]
  },
  {
   "cell_type": "code",
   "execution_count": null,
   "metadata": {},
   "outputs": [],
   "source": [
    "%aiida\n",
    "%matplotlib notebook\n",
    "import base64\n",
    "import pandas as pd\n",
    "import urllib.parse as urlparse\n",
    "import ipywidgets as ipw\n",
    "from IPython.display import display, clear_output\n",
    "from aiidalab_widgets_base import viewer\n",
    "import numpy as np\n",
    "import matplotlib.pyplot as plt"
   ]
  },
  {
   "cell_type": "code",
   "execution_count": null,
   "metadata": {},
   "outputs": [],
   "source": [
    "url = urlparse.urlsplit(jupyter_notebook_url)\n",
    "uuid = urlparse.parse_qs(url.query)['uuid'][0]\n",
    "workcalc = load_node(uuid=str(uuid))\n",
    "\n",
    "molecule_converter = {\n",
    "    \"co2\": \"CO2\",\n",
    "    \"ch4\": \"CH4\",\n",
    "    \"n2\" : \"N2\",\n",
    "    \"h2o\": \"H2O\",\n",
    "    \"h2\" : \"H2\",\n",
    "    \"o2\" : \"O2\",\n",
    "}"
   ]
  },
  {
   "cell_type": "markdown",
   "metadata": {},
   "source": [
    "# Detailed Report"
   ]
  },
  {
   "cell_type": "markdown",
   "metadata": {},
   "source": [
    "## Structure"
   ]
  },
  {
   "cell_type": "code",
   "execution_count": null,
   "metadata": {},
   "outputs": [],
   "source": [
    "display(viewer(workcalc.inputs.structure))"
   ]
  },
  {
   "cell_type": "code",
   "execution_count": null,
   "metadata": {},
   "outputs": [],
   "source": [
    "plot_button = ipw.Button(description=\"Plot\")\n",
    "text_plot = ipw.Textarea(\n",
    "    value='',\n",
    "    placeholder='Pressure [bar] loading [mol/kg]',\n",
    "    description='Experimental isotherm:',\n",
    "    disabled=False,\n",
    "    layout={'width': \"40%\", 'height': '300px'},\n",
    "    style = {\"description_width\": \"initial\"}\n",
    ")\n",
    "\n",
    "def on_apply(_=None):\n",
    "    to_plot = []\n",
    "    for line in text_plot.value.splitlines():\n",
    "        to_plot.append(list(map(float, line.split())))\n",
    "    res = np.array(to_plot).transpose()\n",
    "    if res.size > 0:\n",
    "        line_exp.set_data(res[0], res[1])\n",
    "    else:\n",
    "        line_exp.set_data([], [])\n",
    "    fig.canvas.draw_idle()\n",
    "\n",
    "plot_button.on_click(on_apply)"
   ]
  },
  {
   "cell_type": "markdown",
   "metadata": {},
   "source": [
    "## Isotherm and Enthalpy plots"
   ]
  },
  {
   "cell_type": "code",
   "execution_count": null,
   "metadata": {},
   "outputs": [],
   "source": [
    "if 'isotherm' in workcalc.outputs.output_parameters.dict:\n",
    "    \n",
    "    # Extracting the necessary data.\n",
    "    ism = workcalc.outputs.output_parameters['isotherm']\n",
    "    isotherm = np.array([ism['pressure'], ism['loading_absolute_average'], ism['loading_absolute_dev']]).transpose()\n",
    "    enthalpy = np.array([ism['enthalpy_of_adsorption_average'], ism['loading_absolute_average'], ism['enthalpy_of_adsorption_dev']]).transpose()\n",
    "\n",
    "    # Cleaning up the isotherm data.\n",
    "    to_delete_ism = []\n",
    "    for i, p in enumerate(isotherm):\n",
    "        if None in p:\n",
    "            to_delete_ism.append(i)   \n",
    "    if to_delete_ism:\n",
    "        isotherm = np.delete(isotherm, to_delete_ism, axis=0)\n",
    "    ism_p, ism_load, ism_dev = zip(*isotherm)\n",
    "    \n",
    "    # Cleaning up the enthalpy data.\n",
    "    to_delete_enth = []\n",
    "    for i, p in enumerate(enthalpy):\n",
    "        if None in p:\n",
    "            to_delete_enth.append(i)\n",
    "    if to_delete_enth:\n",
    "        enthalpy = np.delete(enthalpy, to_delete_enth, axis=0)\n",
    "    enth_av, ism_load_enth, enth_dev = zip(*enthalpy)\n",
    "\n",
    "\n",
    "    # Plots\n",
    "    \n",
    "    ## Labels.\n",
    "    pressure_label = \"Pressure [{}]\".format(ism['pressure_unit'])\n",
    "    loading_label = \"{} loading [{}]\".format(molecule_converter[workcalc.inputs['molecule'].value], ism['loading_absolute_unit'])\n",
    "    enthalpy_label = \"Enthalpy of adsorption [{}]\".format(ism['enthalpy_of_adsorption_unit'])\n",
    "    \n",
    "    ## Min/max Y values.\n",
    "    min_y_value = min(np.array(ism_load)-np.array(ism_dev)) * 0.99\n",
    "    max_y_value = max(np.array(ism_load)+np.array(ism_dev)) * 1.01\n",
    "    \n",
    "    ## Plotting the isotherm.\n",
    "    fig, axs = plt.subplots(1,2, figsize=(9.9, 5))\n",
    "    line1 = axs[0].errorbar(ism_p, ism_load, yerr=ism_dev, fmt='-or', ecolor='#f58d7f')\n",
    "    axs[0].set_title(\"Isotherm\")\n",
    "    axs[0].grid(True)\n",
    "    axs[0].set_xlabel(pressure_label)\n",
    "    axs[0].set_ylabel(loading_label)\n",
    "    axs[0].set_ylim([min_y_value,  max_y_value])\n",
    "    line_exp, = axs[0].plot([], [], '-ob')\n",
    "\n",
    "    \n",
    "    ## Min/max X values:\n",
    "    min_x_value = min(np.array(enth_av)-np.array(enth_dev))\n",
    "    max_x_value = max(np.array(enth_av)+np.array(enth_dev))\n",
    "    if min_x_value > 0:\n",
    "        min_x_value *= 0.99\n",
    "    else:\n",
    "        min_x_value *= 1.01\n",
    "        \n",
    "    if max_x_value > 0:\n",
    "        max_x_value *= 1.01\n",
    "    else:\n",
    "        max_x_value *= 0.99\n",
    "        \n",
    "    ## The Enthalpy plot.\n",
    "    line2 = axs[1].errorbar(enth_av, ism_load_enth, xerr=enth_dev, fmt='-or')\n",
    "    axs[1].set_title(\"Enthalpy of adsorption [{}]\".format(ism['enthalpy_of_adsorption_unit']))\n",
    "    axs[1].grid(True)\n",
    "    axs[1].set_xlabel(enthalpy_label)\n",
    "    axs[1].set_ylabel(loading_label)\n",
    "    axs[1].set_xlim([min_x_value-2,  max_x_value+2])\n",
    "    axs[1].set_ylim([min_y_value,  max_y_value])\n",
    "    \n",
    "\n",
    "    # CSV\n",
    "    dataf = pd.DataFrame([(key, ism['loading_absolute_average'][i], ism['enthalpy_of_adsorption_average'][i]) for i, key in enumerate(ism['pressure'])],\n",
    "                         columns=[pressure_label, loading_label, enthalpy_label])\n",
    "    table = ipw.HTML('')\n",
    "    payload = base64.b64encode(dataf.to_csv(index=False).encode()).decode()\n",
    "    fname = 'data.csv'\n",
    "    to_add = \"\"\"Download data in csv format: <a download=\"{filename}\"\n",
    "    href=\"data:text/csv;base64,{payload}\" target=\"_blank\">{title}</a>\"\"\"\n",
    "    table.value = to_add.format(filename=fname, payload=payload, title=fname)\n",
    "    display(table)\n",
    "    box = ipw.VBox(children=[text_plot, plot_button])\n",
    "    accordion = ipw.Accordion(children=[box], selected_index=None)\n",
    "    accordion.set_title(0, 'Compare to experiment')\n",
    "    display(accordion)\n",
    "else:\n",
    "    print(\"No isotherm produced in this calculation.\")"
   ]
  },
  {
   "cell_type": "markdown",
   "metadata": {},
   "source": [
    "## Computed properties"
   ]
  },
  {
   "cell_type": "code",
   "execution_count": null,
   "metadata": {},
   "outputs": [],
   "source": [
    "display(viewer(workcalc.outputs.output_parameters))"
   ]
  }
 ],
 "metadata": {
  "kernelspec": {
   "display_name": "Python 3",
   "language": "python",
   "name": "python3"
  },
  "language_info": {
   "codemirror_mode": {
    "name": "ipython",
    "version": 3
   },
   "file_extension": ".py",
   "mimetype": "text/x-python",
   "name": "python",
   "nbconvert_exporter": "python",
   "pygments_lexer": "ipython3",
   "version": "3.7.4"
  }
 },
 "nbformat": 4,
 "nbformat_minor": 2
}
