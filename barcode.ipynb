{
 "cells": [
  {
   "cell_type": "markdown",
   "metadata": {},
   "source": [
    "# Compute Persistence Homology Barcode"
   ]
  },
  {
   "cell_type": "markdown",
   "metadata": {},
   "source": [
    "## Step 1: Upload Structure"
   ]
  },
  {
   "cell_type": "code",
   "execution_count": null,
   "metadata": {
    "scrolled": false
   },
   "outputs": [],
   "source": [
    "from aiidalab_widgets_base import StructureUploadWidget\n",
    "import ipywidgets as ipw\n",
    "from IPython.display import display\n",
    "\n",
    "\n",
    "upload_widget = StructureUploadWidget(node_class='CifData')\n",
    "display(upload_widget)"
   ]
  },
  {
   "cell_type": "markdown",
   "metadata": {},
   "source": [
    "## Step 2: Submit Calculation"
   ]
  },
  {
   "cell_type": "code",
   "execution_count": null,
   "metadata": {},
   "outputs": [],
   "source": [
    "from aiida_phtools.workflows.dmatrix import DistanceMatrixWorkChain\n",
    "\n",
    "\n",
    "\n",
    "#import aiida_phtools.tests as pt\n",
    "#import aiida_zeopp.tests as zt\n",
    "#import aiida_gudhi.tests as gt\n",
    "from IPython.display import display\n",
    "from aiidalab_widgets_base import CodeDropdown\n",
    "\n",
    "zeopp_dd = CodeDropdown(input_plugin='zeopp.network')\n",
    "pore_surface_dd = CodeDropdown(input_plugin='phtools.surface')\n",
    "distance_matrix_dd = CodeDropdown(input_plugin='phtools.dmatrix')\n",
    "rips_code_dd = CodeDropdown(input_plugin='gudhi.rdm')\n",
    "\n",
    "outputs=None\n",
    "def on_click_submit(change):\n",
    "    global outputs\n",
    "    from aiida.work.run import run, submit\n",
    "\n",
    "    with submit_output:\n",
    "        print(\"Running Workchain for structure {}\".format(str(upload_widget.structure_node)))\n",
    "        print(\"Please stand by ... (this can take a few minutes)\")\n",
    "        outputs = run(\n",
    "            DistanceMatrixWorkChain,\n",
    "            structure=upload_widget.structure_node,\n",
    "            zeopp_code=zeopp_dd.selected_code,\n",
    "            pore_surface_code=pore_surface_dd.selected_code,\n",
    "            distance_matrix_code=distance_matrix_dd.selected_code,\n",
    "            rips_code=rips_code_dd.selected_code,\n",
    "        )\n",
    "        print(\"Workchain completed!\")\n",
    "    \n",
    "btn_submit = ipw.Button(description='Compute barcodes')\n",
    "btn_submit.on_click(on_click_submit)\n",
    "submit_output = ipw.Output()\n",
    "#text_calc_name = ipw.Text(description='Calculation label: ', placeholder='A great name.',\n",
    "#                          style=style, layout=layout)\n",
    "\n",
    "\n",
    "display(zeopp_dd, pore_surface_dd, distance_matrix_dd, rips_code_dd, btn_submit, submit_output)"
   ]
  },
  {
   "cell_type": "markdown",
   "metadata": {},
   "source": [
    "## Step 3: Show Barcodes"
   ]
  },
  {
   "cell_type": "code",
   "execution_count": null,
   "metadata": {},
   "outputs": [],
   "source": [
    "%matplotlib inline\n",
    "\n",
    "#from aiida.orm import load_node\n",
    "#outputs = { 'barcode': load_node(4713)}\n",
    "\n",
    "btn_plot = ipw.Button(description='Show barcodes')\n",
    "\n",
    "def on_click_plot(change):\n",
    "    with plot_output:\n",
    "        \n",
    "        if outputs is None:\n",
    "            print(\"No barcode found. Has the calculation finished?\")\n",
    "            return\n",
    "        \n",
    "\n",
    "        from aiida_gudhi.parsers.barcode import BarcodeParser\n",
    "        parser = BarcodeParser(filename=outputs['barcode'].get_file_abs_path(),max_life=4.2)\n",
    "    \n",
    "        for d in [0,1,2]:\n",
    "            parser.plot(d)\n",
    "        \n",
    "btn_plot.on_click(on_click_plot)\n",
    "plot_output = ipw.Output()\n",
    "display(btn_plot, plot_output)"
   ]
  }
 ],
 "metadata": {
  "kernelspec": {
   "display_name": "Python 2",
   "language": "python",
   "name": "python2"
  },
  "language_info": {
   "codemirror_mode": {
    "name": "ipython",
    "version": 2
   },
   "file_extension": ".py",
   "mimetype": "text/x-python",
   "name": "python",
   "nbconvert_exporter": "python",
   "pygments_lexer": "ipython2",
   "version": "2.7.15"
  }
 },
 "nbformat": 4,
 "nbformat_minor": 2
}
